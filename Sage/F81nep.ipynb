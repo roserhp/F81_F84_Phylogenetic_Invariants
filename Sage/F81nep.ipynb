{
 "cells": [
  {
   "cell_type": "code",
   "execution_count": 9,
   "id": "08889015-36ab-4770-99ea-3d6b5ce5dca9",
   "metadata": {},
   "outputs": [],
   "source": [
    "#define the p-tilde variables and the three constants \n",
    "p1111, p1122, p1212, p1221, p1222, p2121, p2211, p2221, p2112, p2122, p2212, p3333, p2232, p2332, p2333 = var('p1111, p1122, p1212, p1221, p1222, p2121, p2211, p2221, p2112, p2122, p2212, p3333, p2232, p2332, p2333')\n",
    "c1,c2,c3=var('c1,c2,c3');"
   ]
  },
  {
   "cell_type": "code",
   "execution_count": 10,
   "id": "ce2c6274-26bf-42a5-be09-7169f0e7e4ef",
   "metadata": {},
   "outputs": [],
   "source": [
    "#write the 7 equations\n",
    "f1 = p1122*p1212*p1221 - p1111*p1222;\n",
    "f2 = p1221*p2121*p2211 - p1111*p2221;\n",
    "f3 = c1*p1111*p3333 - c2*p1111*p2332 - c3*p1122*p2211;\n",
    "f4 = p1212*p2121 - p2112*p1221;\n",
    "f5 = p1212*p2122 - p2112*p1222;\n",
    "f6 = p1212*p2221 - p2212*p1221;\n",
    "f7 = p1212*p2333 - p2212*p1222;"
   ]
  },
  {
   "cell_type": "code",
   "execution_count": 11,
   "id": "7fa8ee69-ed57-4d39-97e3-529f7916a71e",
   "metadata": {},
   "outputs": [],
   "source": [
    "#compute the Jacobian for a generic point\n",
    "J(p1111, p1212, p1221, p1222, p2121, p2211, p2221, p2112, p2122, p3333, p2232, p2333) = jacobian((f1,f2,f3,f4,f5,f6,f7), (p1111, p1212, p1221, p1222, p2121, p2211, p2221, p2112, p2122, p3333, p2232, p2333))"
   ]
  },
  {
   "cell_type": "code",
   "execution_count": 12,
   "id": "84bde6e8-a2e1-4925-aad9-f49796157a49",
   "metadata": {},
   "outputs": [],
   "source": [
    "#compute the Jacobian for a generic point\n",
    "J(p1111, p1212, p1221, p1222, p2121, p2211, p2221, p2112, p2122, p3333, p2232, p2333) = jacobian((f1,f2,f3,f4,f5,f6,f7), (p1111, p1212, p1221, p1222, p2121, p2211, p2221, p2112, p2122, p3333, p2232, p2333))"
   ]
  },
  {
   "cell_type": "code",
   "execution_count": 13,
   "id": "4a6fa597-8e85-4c04-9253-c2e1242b5142",
   "metadata": {},
   "outputs": [],
   "source": [
    "#define the jacobian at the no-evolution point\n",
    "nep_jac = J(1,1,1,1,1,1,1,1,1,1,1,1)"
   ]
  },
  {
   "cell_type": "code",
   "execution_count": 14,
   "id": "8544c96c-c7f2-4beb-8e3f-4c769cc5abd4",
   "metadata": {},
   "outputs": [
    {
     "data": {
      "text/plain": [
       "7"
      ]
     },
     "execution_count": 14,
     "metadata": {},
     "output_type": "execute_result"
    }
   ],
   "source": [
    "#compute the rank of the Jacobian at the no evolution point\n",
    "nep_jac.rank()"
   ]
  },
  {
   "cell_type": "code",
   "execution_count": null,
   "id": "41e0b388-e284-4a9c-812c-29a4d6a767a9",
   "metadata": {},
   "outputs": [],
   "source": []
  },
  {
   "cell_type": "code",
   "execution_count": null,
   "id": "0e93452a-f139-405b-b2e7-40f55933c09b",
   "metadata": {},
   "outputs": [],
   "source": []
  }
 ],
 "metadata": {
  "kernelspec": {
   "display_name": "SageMath 10.5",
   "language": "sage",
   "name": "sagemath-10.5"
  },
  "language_info": {
   "codemirror_mode": {
    "name": "ipython",
    "version": 3
   },
   "file_extension": ".py",
   "mimetype": "text/x-python",
   "name": "python",
   "nbconvert_exporter": "python",
   "pygments_lexer": "ipython3",
   "version": "3.12.5"
  }
 },
 "nbformat": 4,
 "nbformat_minor": 5
}
