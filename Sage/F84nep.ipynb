{
 "cells": [
  {
   "cell_type": "code",
   "execution_count": 1,
   "id": "2cd00cb1-a729-4602-bc6f-b1baede12b1d",
   "metadata": {},
   "outputs": [],
   "source": [
    "p1111, p1114, p1141, p1411, p4111, p1112, p1121, p1121, p1211, p2111, p4141, p4114, p4411, p1414, p1144, p2121, p2112, p2211, p1212, p1122, p4441, p4414, p4144, p1444, p2221, p2212, p2122, p1222 = var('p1111, p1114, p1141, p1411, p4111, p1112, p1121, p1121, p1211, p2111, p4141, p4114, p4411, p1414, p1144, p2121, p2112, p2211, p1212, p1122, p4441, p4414, p4144, p1444, p2221, p2212, p2122, p1222')"
   ]
  },
  {
   "cell_type": "code",
   "execution_count": 2,
   "id": "16ce3ee5-fa50-43b1-9a3b-ca6822f0e2b0",
   "metadata": {},
   "outputs": [],
   "source": [
    "p4412, p4214, p1424, p1422, p2414, p2441, p4241, p4214, p2424, p3322, p2444, p4244, p3344, p3322, p2333, p3333 = var('p4412, p4214, p1424, p1422, p2414, p2441, p4241, p4214, p2424, p3322, p2444, p4244, p3344, p3322, p2333, p3333')"
   ]
  },
  {
   "cell_type": "code",
   "execution_count": 3,
   "id": "267be1b0-915e-4be0-bbfd-3cd4c293205a",
   "metadata": {},
   "outputs": [],
   "source": [
    "p1441, p1221, p1244, p1442 ,p4124, p4224, p4444, p4142, p2442, p4242, p4422, p2222, p2233, p2144, p2244, p4421= var('p1441, p1221, p1244, p1442, p4124, p4224, p4444, p4142, p2442, p4242, p4422, p2222, p2233, p2144, p2244, p4421')"
   ]
  },
  {
   "cell_type": "code",
   "execution_count": 4,
   "id": "89654b43-2425-4eec-84da-0b2bd2ada701",
   "metadata": {},
   "outputs": [],
   "source": [
    "f1 = p1222*p1441 - p1221*p1422\n",
    "f2 = p1222*p1414 - p1212*p1424\n",
    "f3 = p1222*p1144 - p1122*p1244\n",
    "f4 = p1144*p1414*p1441 - p1111*p1444^2\n",
    "f5 = p1442*p1424*p1244 - p1222*p1444^2\n",
    "f6 = p2212*p4411 - p2211*p4412\n",
    "f7 = p2212*p4114 - p2112*p4214\n",
    "f8 = p2212*p1414 - p1212*p2414\n",
    "f9 = p1414*p4114*p4411 - p1111*p4414^2\n",
    "f10 = p4412*p4214*p2414 - p2212*p4414^2"
   ]
  },
  {
   "cell_type": "code",
   "execution_count": 5,
   "id": "949f47a7-f1ff-4083-ba4e-402f7e20f7ce",
   "metadata": {},
   "outputs": [],
   "source": [
    "g1 = p1414*p4141 - p1441*p4114\n",
    "g2 = p1414*p2441 - p1441*p2414\n",
    "g3 = p1414*p4241 - p1441*p4214\n",
    "g4 = p1414*p4441 - p1441*p4414\n",
    "g5 = p1414*p4124 - p1424*p4114\n",
    "g6 = p1414*p2424 - p1424*p2414\n",
    "g7 = p1414*p4224 - p1424*p4214\n",
    "g8 = p1414*p4444 - p1424*p4414\n",
    "g9 = p1414*p4142 - p1442*p4114\n",
    "g10 = p1414*p2442 - p1442*p2414\n",
    "g11 = p1414*p4242 - p1442*p4214\n",
    "g12 = p1414*p2444 - p1442*p4414\n",
    "g13 = p1212*p4421 - p1221*p4412\n",
    "g14 = p1212*p2221 - p1221*p2212\n",
    "g15 = p1212*p2121 - p1221*p2112"
   ]
  },
  {
   "cell_type": "code",
   "execution_count": 6,
   "id": "9c18c8df-a318-4427-881c-f9559c95d1e6",
   "metadata": {},
   "outputs": [],
   "source": [
    "h1 = matrix([[p1111, p1122, 0], [0, p1222, p1212], [p4411, p4422, p4412]]).determinant()\n",
    "h2 = matrix([[p1111, p1122, 0], [0, p1222, p1212], [p2211, p2222, p2212]]).determinant()\n",
    "h3 = matrix([[p1111, p1122, 0], [0, p1222, p1212], [0, p2122, p2112]]).determinant()\n",
    "h4 = matrix([[p1111, p1122, 0], [0, p1222, p1212], [p4411, p3322, p4412]]).determinant()"
   ]
  },
  {
   "cell_type": "code",
   "execution_count": 7,
   "id": "9ea1b3f1-adc8-4c4e-b5e3-bac0b14271a8",
   "metadata": {},
   "outputs": [],
   "source": [
    "i1 = matrix([[p1111, 0, p1144, 0], [0, p1212, p1244, 0], [0, 0, p1444, p1414], [p4411, p4412, p3344, 0]]).determinant()\n",
    "i2 = matrix([[p1111, 0, p1144, 0], [0, p1212, p1244, 0], [0, 0, p1444, p1414], [p2211, p2212, p2233, 0]]).determinant()\n",
    "i3 = matrix([[p1111, 0, p1144, 0], [0, p1212, p1244, 0], [0, 0, p1444, p1414], [p4411, p4412, p3333, p4414]]).determinant()\n",
    "i4 = matrix([[p1111, 0, p1144, 0], [0, p1212, p1244, 0], [0, 0, p1444, p1414], [0, 0, p4144, p4114]]).determinant()\n",
    "i5 = matrix([[p1111, 0, p1144, 0], [0, p1212, p1244, 0], [0, 0, p1444, p1414], [0, 0, p2444, p2414]]).determinant()\n",
    "i6 = matrix([[p1111, 0, p1144, 0], [0, p1212, p1244, 0], [0, 0, p1444, p1414], [0, 0, p4244, p4214]]).determinant()\n",
    "i7 = matrix([[p1111, 0, p1144, 0], [0, p1212, p1244, 0], [0, 0, p1444, p1414], [0, p2112, p2144, 0]]).determinant()\n",
    "i8 =  matrix([[p1111, 0, p1144, 0], [0, p1414, p1444, 0], [0, 0, p1244, p1212], [p4411, p4414, p4444, p4412]]).determinant()\n",
    "i9 =  matrix([[p1111, 0, p1144, 0], [0, p1414, p1444, 0], [0, 0, p1244, p1212], [p2211, 0, p2244, p2212]]).determinant()"
   ]
  },
  {
   "cell_type": "code",
   "execution_count": 8,
   "id": "53104676-cd0a-4746-b038-793e3bf207fd",
   "metadata": {},
   "outputs": [],
   "source": [
    "J(p1111, p1114, p1141, p1411, p4111, p1112, p1121, p1121, p1211, p2111, p4141, p4114, p4411, p1414, p1144, p2121, p2112, p2211, p1212, p1122, p4441, p4414, p4144, p1444, p2221, p2212, p2122, p1222,\n",
    "             p4412, p4214, p1424, p1422, p2414, p2441, p4241, p4214, p2424, p3322, p2444, p4244, p3344, p3322, p2333, p3333,\n",
    "             p1441, p1221, p1244, p1442 ,p4124, p4224, p4444, p4142, p2442, p4242, p4422, p2222, p2233, p2144, p2244, p4421)  = jacobian((f1,f2,f3,f4,f5,f6,f7,f8,f9,f10,g1,g2,g3,g4,g5,g6,g7,g8,g9,g10,g11,g12,g13,g14,g15,h1,h2,h3,h4,i1,i2,i3,i4,i5,i6,i7,i8,i9), \n",
    "             (p1111, p1114, p1141, p1411, p4111, p1112, p1121, p1121, p1211, p2111, p4141, p4114, p4411, p1414, p1144, p2121, p2112, p2211, p1212, p1122, p4441, p4414, p4144, p1444, p2221, p2212, p2122, p1222,\n",
    "             p4412, p4214, p1424, p1422, p2414, p2441, p4241, p4214, p2424, p3322, p2444, p4244, p3344, p3322, p2333, p3333, \n",
    "             p1441, p1221, p1244, p1442 ,p4124, p4224, p4444, p4142, p2442, p4242, p4422, p2222, p2233, p2144, p2244, p4421))"
   ]
  },
  {
   "cell_type": "code",
   "execution_count": 10,
   "id": "d0c993bd-67b0-4169-a1d1-4f0b354a5608",
   "metadata": {},
   "outputs": [],
   "source": [
    "nep = J(1,1,1,1,1,1,1,1,1,1,1,1,1,1,1,1,1,1,1,1,1,1,1,1,1,1,1,1,1,1,1,1,1,1,1,1,1,1,1,1,1,1,1,1,1,1,1,1,1,1,1,1,1,1,1,1,1,1,1,1)"
   ]
  },
  {
   "cell_type": "code",
   "execution_count": 11,
   "id": "54a8c411-69d0-4c3f-ba0e-40114ee1e584",
   "metadata": {},
   "outputs": [
    {
     "data": {
      "text/plain": [
       "38"
      ]
     },
     "execution_count": 11,
     "metadata": {},
     "output_type": "execute_result"
    }
   ],
   "source": [
    "nep.rank()"
   ]
  },
  {
   "cell_type": "code",
   "execution_count": 21,
   "id": "caa5735a-1db1-4b45-955b-a042256076b4",
   "metadata": {},
   "outputs": [],
   "source": []
  },
  {
   "cell_type": "code",
   "execution_count": 22,
   "id": "53d4a742-b9b3-46f7-bea7-22e09fc759f4",
   "metadata": {},
   "outputs": [
    {
     "data": {
      "text/plain": [
       "'[1 1 1 1 1 1 1 1 1 1 1 1 1 1 1 1 1 1 1 1 1 1 1 1 1 1 1 1 1 1 1 1 1 1 1 1 1 1 1 1 1 1 1 1 1 1 1 1 1 1 1 1 1 1 1 1 1 1 1 1]'"
      ]
     },
     "execution_count": 22,
     "metadata": {},
     "output_type": "execute_result"
    }
   ],
   "source": []
  },
  {
   "cell_type": "code",
   "execution_count": null,
   "id": "b004aaf4-17dd-49ff-a340-a53756779547",
   "metadata": {},
   "outputs": [],
   "source": []
  },
  {
   "cell_type": "code",
   "execution_count": null,
   "id": "97040286-1fef-4e0a-8a02-35342785242d",
   "metadata": {},
   "outputs": [],
   "source": []
  }
 ],
 "metadata": {
  "kernelspec": {
   "display_name": "SageMath 10.5",
   "language": "sage",
   "name": "sagemath-10.5"
  },
  "language_info": {
   "codemirror_mode": {
    "name": "ipython",
    "version": 3
   },
   "file_extension": ".py",
   "mimetype": "text/x-python",
   "name": "python",
   "nbconvert_exporter": "python",
   "pygments_lexer": "ipython3",
   "version": "3.12.5"
  }
 },
 "nbformat": 4,
 "nbformat_minor": 5
}
